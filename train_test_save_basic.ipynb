{
 "cells": [
  {
   "cell_type": "code",
   "execution_count": 257,
   "metadata": {},
   "outputs": [],
   "source": [
    "import pandas as pd\n",
    "import numpy as np\n",
    "import os\n",
    "from collections import Counter"
   ]
  },
  {
   "cell_type": "markdown",
   "metadata": {},
   "source": [
    "# Data Analysis"
   ]
  },
  {
   "cell_type": "code",
   "execution_count": 332,
   "metadata": {},
   "outputs": [],
   "source": [
    "data = pd.read_csv(\"train.csv\",engine = 'python')"
   ]
  },
  {
   "cell_type": "code",
   "execution_count": 333,
   "metadata": {},
   "outputs": [
    {
     "data": {
      "text/html": [
       "<div>\n",
       "<style scoped>\n",
       "    .dataframe tbody tr th:only-of-type {\n",
       "        vertical-align: middle;\n",
       "    }\n",
       "\n",
       "    .dataframe tbody tr th {\n",
       "        vertical-align: top;\n",
       "    }\n",
       "\n",
       "    .dataframe thead th {\n",
       "        text-align: right;\n",
       "    }\n",
       "</style>\n",
       "<table border=\"1\" class=\"dataframe\">\n",
       "  <thead>\n",
       "    <tr style=\"text-align: right;\">\n",
       "      <th></th>\n",
       "      <th>Source</th>\n",
       "      <th>Host</th>\n",
       "      <th>Link</th>\n",
       "      <th>Date(ET)</th>\n",
       "      <th>Time(ET)</th>\n",
       "      <th>time(GMT)</th>\n",
       "      <th>Title</th>\n",
       "      <th>TRANS_CONV_TEXT</th>\n",
       "      <th>Patient_Tag</th>\n",
       "    </tr>\n",
       "  </thead>\n",
       "  <tbody>\n",
       "    <tr>\n",
       "      <th>1152</th>\n",
       "      <td>BLOG</td>\n",
       "      <td>http://medicalxpress.com/cardiology-news</td>\n",
       "      <td>http://medicalxpress.com/news/2016-04-saxaglip...</td>\n",
       "      <td>4/26/2016</td>\n",
       "      <td>16:30:01</td>\n",
       "      <td>4/27/2016 2:00</td>\n",
       "      <td>Saxagliptin, sitagliptin don't up hospitalized...</td>\n",
       "      <td>(HealthDay)?Use of saxagliptin or sitagliptin ...</td>\n",
       "      <td>0</td>\n",
       "    </tr>\n",
       "    <tr>\n",
       "      <th>1153</th>\n",
       "      <td>YOUTUBE</td>\n",
       "      <td>youtube.com</td>\n",
       "      <td>http://youtube.com/watch?v=3Z9yiPdLDO4</td>\n",
       "      <td>7/20/2016</td>\n",
       "      <td>11:25:11</td>\n",
       "      <td>Ted Rogers Centre for Heart Research</td>\n",
       "      <td>NaN</td>\n",
       "      <td>Description: A keynote address at the Ted Roge...</td>\n",
       "      <td>0</td>\n",
       "    </tr>\n",
       "    <tr>\n",
       "      <th>1154</th>\n",
       "      <td>FORUMS</td>\n",
       "      <td>www.cpaptalk.com</td>\n",
       "      <td>http://www.cpaptalk.com/viewtopic.php?t=110350...</td>\n",
       "      <td>2/10/2016</td>\n",
       "      <td>0.471527778</td>\n",
       "      <td>42410.67986</td>\n",
       "      <td>ASV questions and concerns</td>\n",
       "      <td>Quote: : After publishing the first study that...</td>\n",
       "      <td>0</td>\n",
       "    </tr>\n",
       "    <tr>\n",
       "      <th>1155</th>\n",
       "      <td>FORUMS</td>\n",
       "      <td>ourfantasycastle.yuku.com</td>\n",
       "      <td>http://ourfantasycastle.yuku.com/reply/554464/...</td>\n",
       "      <td>7/14/2016</td>\n",
       "      <td>5:16:06</td>\n",
       "      <td>NaN</td>\n",
       "      <td>NaN</td>\n",
       "      <td>Thank you.&lt;br /&gt;&lt;br /&gt; What we know,&lt;br /&gt;&lt;br ...</td>\n",
       "      <td>1</td>\n",
       "    </tr>\n",
       "    <tr>\n",
       "      <th>1156</th>\n",
       "      <td>FORUMS</td>\n",
       "      <td>www.cpaptalk.com</td>\n",
       "      <td>http://www.cpaptalk.com/viewtopic.php?t=111651...</td>\n",
       "      <td>4/24/2016</td>\n",
       "      <td>20:45:00</td>\n",
       "      <td>4/25/2016 6:15</td>\n",
       "      <td>Want to Try Again--Data From First Night</td>\n",
       "      <td>I went through a sleep study (AHI Severe at 95...</td>\n",
       "      <td>0</td>\n",
       "    </tr>\n",
       "  </tbody>\n",
       "</table>\n",
       "</div>"
      ],
      "text/plain": [
       "       Source                                      Host  \\\n",
       "1152     BLOG  http://medicalxpress.com/cardiology-news   \n",
       "1153  YOUTUBE                               youtube.com   \n",
       "1154   FORUMS                          www.cpaptalk.com   \n",
       "1155   FORUMS                 ourfantasycastle.yuku.com   \n",
       "1156   FORUMS                          www.cpaptalk.com   \n",
       "\n",
       "                                                   Link   Date(ET)  \\\n",
       "1152  http://medicalxpress.com/news/2016-04-saxaglip...  4/26/2016   \n",
       "1153             http://youtube.com/watch?v=3Z9yiPdLDO4  7/20/2016   \n",
       "1154  http://www.cpaptalk.com/viewtopic.php?t=110350...  2/10/2016   \n",
       "1155  http://ourfantasycastle.yuku.com/reply/554464/...  7/14/2016   \n",
       "1156  http://www.cpaptalk.com/viewtopic.php?t=111651...  4/24/2016   \n",
       "\n",
       "         Time(ET)                             time(GMT)  \\\n",
       "1152     16:30:01                        4/27/2016 2:00   \n",
       "1153     11:25:11  Ted Rogers Centre for Heart Research   \n",
       "1154  0.471527778                           42410.67986   \n",
       "1155      5:16:06                                   NaN   \n",
       "1156     20:45:00                        4/25/2016 6:15   \n",
       "\n",
       "                                                  Title  \\\n",
       "1152  Saxagliptin, sitagliptin don't up hospitalized...   \n",
       "1153                                                NaN   \n",
       "1154                         ASV questions and concerns   \n",
       "1155                                                NaN   \n",
       "1156           Want to Try Again--Data From First Night   \n",
       "\n",
       "                                        TRANS_CONV_TEXT  Patient_Tag  \n",
       "1152  (HealthDay)?Use of saxagliptin or sitagliptin ...            0  \n",
       "1153  Description: A keynote address at the Ted Roge...            0  \n",
       "1154  Quote: : After publishing the first study that...            0  \n",
       "1155  Thank you.<br /><br /> What we know,<br /><br ...            1  \n",
       "1156  I went through a sleep study (AHI Severe at 95...            0  "
      ]
     },
     "execution_count": 333,
     "metadata": {},
     "output_type": "execute_result"
    }
   ],
   "source": [
    "data.tail()"
   ]
  },
  {
   "cell_type": "code",
   "execution_count": 334,
   "metadata": {},
   "outputs": [
    {
     "name": "stdout",
     "output_type": "stream",
     "text": [
      "5 different values in the Source column\n",
      "616 different values in the Host column\n",
      "1152 different values in the Link column\n",
      "167 different values in the Date(ET) column\n",
      "962 different values in the Time(ET) column\n",
      "968 different values in the time(GMT) column\n",
      "879 different values in the Title column\n",
      "1157 different values in the TRANS_CONV_TEXT column\n",
      "2 different values in the Patient_Tag column\n",
      "\n",
      "total number of examples 1157\n"
     ]
    }
   ],
   "source": [
    "colum = data.columns\n",
    "for i in colum:\n",
    "    print(f'{len(set(data[i]))} different values in the {i} column')\n",
    "print(f\"\\ntotal number of examples {len(data)}\")\n",
    "\n",
    "#Host, link, Time(ET), Time(GMT),is of no use for trainig the function"
   ]
  },
  {
   "cell_type": "code",
   "execution_count": 335,
   "metadata": {
    "scrolled": true
   },
   "outputs": [],
   "source": [
    "data = data.drop([\"Host\", \"Link\", \"Date(ET)\", \"Time(ET)\", \"time(GMT)\"], axis=1)"
   ]
  },
  {
   "cell_type": "code",
   "execution_count": 370,
   "metadata": {},
   "outputs": [
    {
     "name": "stdout",
     "output_type": "stream",
     "text": [
      "4 different values in the Source column\n",
      "879 different values in the Title column\n",
      "1157 different values in the TRANS_CONV_TEXT column\n",
      "2 different values in the Patient_Tag column\n",
      "\n",
      "total number of examples 1157\n"
     ]
    }
   ],
   "source": [
    "colum = data.columns\n",
    "for i in colum:\n",
    "    print(f'{len(set(data[i]))} different values in the {i} column')\n",
    "print(f\"\\ntotal number of examples {len(data)}\")\n",
    "\n"
   ]
  },
  {
   "cell_type": "code",
   "execution_count": 371,
   "metadata": {},
   "outputs": [
    {
     "data": {
      "text/plain": [
       "[1, 2, 3, 4]"
      ]
     },
     "execution_count": 371,
     "metadata": {},
     "output_type": "execute_result"
    }
   ],
   "source": [
    "list(set(data[\"Source\"])) # differnet values in \"Source\" column"
   ]
  },
  {
   "cell_type": "code",
   "execution_count": 372,
   "metadata": {},
   "outputs": [],
   "source": [
    "# repalcing FACEBOOK to Facebook \n",
    "data.replace(to_replace='FACEBOOK', value='Facebook',inplace=True)\n",
    "# Now there are only 4 different values in \"Source\" column"
   ]
  },
  {
   "cell_type": "code",
   "execution_count": 373,
   "metadata": {},
   "outputs": [
    {
     "data": {
      "text/plain": [
       "Counter({4: 669, 2: 385, 1: 64, 3: 39})"
      ]
     },
     "execution_count": 373,
     "metadata": {},
     "output_type": "execute_result"
    }
   ],
   "source": [
    "Counter(data.loc[:,\"Source\"]) #  # distribution of differnet values in \"Source\" column"
   ]
  },
  {
   "cell_type": "code",
   "execution_count": 374,
   "metadata": {
    "scrolled": true
   },
   "outputs": [
    {
     "data": {
      "text/plain": [
       "Counter({0: 917, 1: 240})"
      ]
     },
     "execution_count": 374,
     "metadata": {},
     "output_type": "execute_result"
    }
   ],
   "source": [
    "Counter(data.iloc[:,[-1]]['Patient_Tag']) # distribution of labels in the \"Patien_Tag\" column\n",
    "# It's an unbalanced data"
   ]
  },
  {
   "cell_type": "code",
   "execution_count": 375,
   "metadata": {
    "scrolled": true
   },
   "outputs": [
    {
     "name": "stdout",
     "output_type": "stream",
     "text": [
      "1 --- Counter({1: 36, 0: 28})\n",
      "2 --- Counter({0: 375, 1: 10})\n",
      "3 --- Counter({0: 39})\n",
      "4 --- Counter({0: 475, 1: 194})\n"
     ]
    }
   ],
   "source": [
    "dummy = {}\n",
    "for i in list(set(data[\"Source\"])):\n",
    "    print(i,\"---\", Counter(data.iloc[:,[0,-1]][data['Source'] == i]['Patient_Tag']))\n",
    "# distribution of labels with reference to each values in \"Source\" column"
   ]
  },
  {
   "cell_type": "code",
   "execution_count": 376,
   "metadata": {
    "scrolled": true
   },
   "outputs": [],
   "source": [
    "replace_ = {}\n",
    "for index, i in enumerate(list(set(data[\"Source\"])),start=1):\n",
    "    replace_[index] = i\n",
    "    data.replace(to_replace=i, value=index,inplace=True)\n",
    "data.fillna('UNK',inplace=True)"
   ]
  },
  {
   "cell_type": "code",
   "execution_count": 377,
   "metadata": {},
   "outputs": [
    {
     "data": {
      "text/plain": [
       "[1, 2, 3, 4]"
      ]
     },
     "execution_count": 377,
     "metadata": {},
     "output_type": "execute_result"
    }
   ],
   "source": [
    "list(set(data[\"Source\"]))"
   ]
  },
  {
   "cell_type": "code",
   "execution_count": 378,
   "metadata": {},
   "outputs": [],
   "source": [
    "data.fillna('UNK',inplace=True)"
   ]
  },
  {
   "cell_type": "code",
   "execution_count": null,
   "metadata": {},
   "outputs": [],
   "source": []
  },
  {
   "cell_type": "markdown",
   "metadata": {},
   "source": [
    "# Vocab creation"
   ]
  },
  {
   "cell_type": "code",
   "execution_count": 379,
   "metadata": {},
   "outputs": [],
   "source": [
    "import re"
   ]
  },
  {
   "cell_type": "code",
   "execution_count": 380,
   "metadata": {},
   "outputs": [],
   "source": [
    "rep_with = ['.', '?', '/', '\\n', '(', ')','[', ']', '{', '}', '-','\"','!', '|' ]"
   ]
  },
  {
   "cell_type": "code",
   "execution_count": 414,
   "metadata": {},
   "outputs": [],
   "source": [
    "def rep_(sent):\n",
    "    for i in rep_with:\n",
    "        sent = sent.replace(i,' ').replace('$', ' ').replace(',','').replace(\"'\",'')\n",
    "    return sent"
   ]
  },
  {
   "cell_type": "code",
   "execution_count": 415,
   "metadata": {},
   "outputs": [],
   "source": [
    "import re\n",
    "import num2words\n",
    "\n",
    "def n2w(text):\n",
    "    return re.sub(r\"(\\d+)\", lambda x: num2words.num2words(int(x.group(0))), text)"
   ]
  },
  {
   "cell_type": "code",
   "execution_count": 416,
   "metadata": {},
   "outputs": [],
   "source": [
    "def preprocess(data,pos):\n",
    "    sent = []\n",
    "    for i in range(len(data)):\n",
    "        try:sent.append(n2w(rep_(data.iloc[i,pos])))\n",
    "        except:print(data.iloc[i,pos])\n",
    "    return sent"
   ]
  },
  {
   "cell_type": "code",
   "execution_count": 417,
   "metadata": {
    "scrolled": true
   },
   "outputs": [],
   "source": [
    "sent = preprocess(data, 2)"
   ]
  },
  {
   "cell_type": "code",
   "execution_count": 418,
   "metadata": {},
   "outputs": [
    {
     "data": {
      "text/plain": [
       "'I dont disagree with you in principle  Im just saying that Entresto has been a major failure of Novartis commercial organisation  They  Novartis  were totally exposed at Qone call  With reimbursement issues being resolved the true underlying problem with Entresto was unveiled: Novartis failed to create the demand for the drug  Their disease awareness campaign in the US  the drowning man  was incredibly poor  fear  and panic inducing   What is more they advertised the wrong condition  They were raising awareness of life threatening ACUTE heart failure instead of CHRONIC heart failure for which Entresto is indicated  Entresto has nothing to do with the treatment of acute heart failure  If that was not due to their shocking lack of knowledge of the disease area it can only be explained as a conscious misleading of patients  They managed to alienate medical community advocacy groups and top KOLs including their own principal investigator in Entresto trials who publicly expressed his concerns  It s unheard of  But it provides clues as to what actually happened  An incompetent strategic marketing team establishes the wrong go to market model based on wrong market assumptions  And they persistently kept going in the wrong direction completely oblivious to the extent of their own incompetence  Its a typical example of ignorance bias   Ignorance more frequently begets confidence than does knowledge    If it wasn t for the analysts who were challenging Novartis in public who knows how long they would have continued to be in denial  It is stunning that Novartis once a leading cardiovascular company bombed the launch of a cardiovascular primary care product   a combo of their own Diovan  With this they discovered a new low  David was let down by his own people  He trusted them but he should have known better  His hands off management style didn t work at Novartis Pharma  in contrast to Oncology   It s a toxic culture populated with yes people where competences and skills are not valued or required for promotion  It is strange though that after so many years in operational positions Joerg seemingly stayed uninvolved  At least thats how it looks from the outside '"
      ]
     },
     "execution_count": 418,
     "metadata": {},
     "output_type": "execute_result"
    }
   ],
   "source": [
    "sent[0]"
   ]
  },
  {
   "cell_type": "code",
   "execution_count": null,
   "metadata": {},
   "outputs": [],
   "source": []
  },
  {
   "cell_type": "code",
   "execution_count": 419,
   "metadata": {
    "scrolled": true
   },
   "outputs": [
    {
     "name": "stdout",
     "output_type": "stream",
     "text": [
      "length of vocabulry -- 23389\n"
     ]
    }
   ],
   "source": [
    "from sklearn.feature_extraction.text import CountVectorizer, TfidfVectorizer\n",
    "vectorizer = TfidfVectorizer()\n",
    "vectorizer.fit(sent)\n",
    "# summarize\n",
    "print(\"length of vocabulry --\",len(vectorizer.vocabulary_))\n",
    "# print(vectorizer_1.vocabulary_)\n",
    "# print(vectorizer_2.idf_)"
   ]
  },
  {
   "cell_type": "code",
   "execution_count": 420,
   "metadata": {
    "scrolled": true
   },
   "outputs": [],
   "source": [
    "vector = vectorizer.transform(sent)"
   ]
  },
  {
   "cell_type": "code",
   "execution_count": null,
   "metadata": {},
   "outputs": [],
   "source": []
  },
  {
   "cell_type": "markdown",
   "metadata": {},
   "source": [
    "# Training"
   ]
  },
  {
   "cell_type": "code",
   "execution_count": 421,
   "metadata": {},
   "outputs": [],
   "source": [
    "x = np.array(vector.toarray()) # text\n",
    "m = np.array(data['Source']).reshape(1157,1) # source\n",
    "x = np.concatenate((m,x),axis=1) # source + text\n",
    "y = np.array(data.loc[:,'Patient_Tag']) # label"
   ]
  },
  {
   "cell_type": "code",
   "execution_count": 422,
   "metadata": {},
   "outputs": [
    {
     "data": {
      "text/plain": [
       "((1157, 23390), (1157,))"
      ]
     },
     "execution_count": 422,
     "metadata": {},
     "output_type": "execute_result"
    }
   ],
   "source": [
    "x.shape, y.shape"
   ]
  },
  {
   "cell_type": "code",
   "execution_count": 423,
   "metadata": {},
   "outputs": [],
   "source": [
    "from sklearn.model_selection import train_test_split\n",
    "x_train, x_test, y_train, y_test = train_test_split(x,y, test_size=0.2)"
   ]
  },
  {
   "cell_type": "code",
   "execution_count": 441,
   "metadata": {},
   "outputs": [
    {
     "data": {
      "text/plain": [
       "0.9181034482758621"
      ]
     },
     "execution_count": 441,
     "metadata": {},
     "output_type": "execute_result"
    }
   ],
   "source": [
    "from sklearn.linear_model import LogisticRegression\n",
    "model = LogisticRegression(class_weight='balanced', C=1.5)\n",
    "\n",
    "model.fit(x_train, y_train)\n",
    "predictions = model.predict(x_test)\n",
    "score = model.score(x_test,y_test)\n",
    "score"
   ]
  },
  {
   "cell_type": "code",
   "execution_count": null,
   "metadata": {},
   "outputs": [],
   "source": [
    "from sklearn import svm\n",
    "model = svm.SVC(class_weight='balanced', C=1.5)\n",
    "model.fit(x_train, y_train,)\n",
    "\n",
    "predictions = model.predict(x_test)\n",
    "score = model.score(x_test,y_test)\n",
    "score"
   ]
  },
  {
   "cell_type": "code",
   "execution_count": 409,
   "metadata": {},
   "outputs": [],
   "source": [
    "import xgboost as xgb"
   ]
  },
  {
   "cell_type": "code",
   "execution_count": 410,
   "metadata": {},
   "outputs": [],
   "source": [
    "data_dmatrix = xgb.DMatrix(data=x_train,label=y_train)"
   ]
  },
  {
   "cell_type": "code",
   "execution_count": 411,
   "metadata": {},
   "outputs": [],
   "source": [
    "xg_reg = xgb.XGBClassifier(objective ='reg:linear', colsample_bytree = 0.3, learning_rate = 0.05,\n",
    "                max_depth = 100, alpha = 0.75, n_estimators = 100, n_jobs = 32)"
   ]
  },
  {
   "cell_type": "code",
   "execution_count": 412,
   "metadata": {},
   "outputs": [
    {
     "name": "stdout",
     "output_type": "stream",
     "text": [
      "[00:50:21] WARNING: /workspace/src/objective/regression_obj.cu:152: reg:linear is now deprecated in favor of reg:squarederror.\n"
     ]
    }
   ],
   "source": [
    "xg_reg.fit(x_train,y_train)\n",
    "predictions = xg_reg.predict(x_test)"
   ]
  },
  {
   "cell_type": "code",
   "execution_count": 413,
   "metadata": {},
   "outputs": [
    {
     "data": {
      "text/plain": [
       "0.9103448275862069"
      ]
     },
     "execution_count": 413,
     "metadata": {},
     "output_type": "execute_result"
    }
   ],
   "source": [
    "score = xg_reg.score(x_test,y_test)\n",
    "score"
   ]
  },
  {
   "cell_type": "code",
   "execution_count": null,
   "metadata": {},
   "outputs": [],
   "source": [
    "params = {\"objective\":\"reg:linear\",'colsample_bytree': 0.3,'learning_rate': 0.1,\n",
    "                'max_depth': 5, 'alpha': 10}\n",
    "\n",
    "cv_results = xgb.cv(dtrain=data_dmatrix, params=params, nfold=3,num_boost_round=50,\n",
    "                 early_stopping_rounds=10,metrics=\"merror\", as_pandas=True, seed=123)"
   ]
  },
  {
   "cell_type": "code",
   "execution_count": null,
   "metadata": {},
   "outputs": [],
   "source": [
    "cv_results"
   ]
  },
  {
   "cell_type": "code",
   "execution_count": null,
   "metadata": {},
   "outputs": [],
   "source": []
  },
  {
   "cell_type": "code",
   "execution_count": null,
   "metadata": {},
   "outputs": [],
   "source": []
  },
  {
   "cell_type": "markdown",
   "metadata": {},
   "source": [
    "# Results analysis"
   ]
  },
  {
   "cell_type": "code",
   "execution_count": 305,
   "metadata": {},
   "outputs": [],
   "source": [
    "import seaborn as sns\n",
    "from sklearn import metrics\n",
    "import matplotlib.pyplot as plt"
   ]
  },
  {
   "cell_type": "code",
   "execution_count": 306,
   "metadata": {},
   "outputs": [],
   "source": [
    "cm = metrics.confusion_matrix(y_test, predictions)"
   ]
  },
  {
   "cell_type": "code",
   "execution_count": 307,
   "metadata": {},
   "outputs": [
    {
     "data": {
      "image/png": "[encoded data removed]",
      "text/plain": [
       "<Figure size 648x648 with 2 Axes>"
      ]
     },
     "metadata": {
      "needs_background": "light"
     },
     "output_type": "display_data"
    }
   ],
   "source": [
    "plt.figure(figsize=(9,9))\n",
    "sns.heatmap(cm, annot=True, fmt=\".3f\", linewidths=.5, square = True, cmap = 'Blues_r');\n",
    "plt.ylabel('Actual label');\n",
    "plt.xlabel('Predicted label');\n",
    "all_sample_title = 'Accuracy Score: {0}'.format(score)\n",
    "plt.title(all_sample_title, size = 15);"
   ]
  },
  {
   "cell_type": "code",
   "execution_count": null,
   "metadata": {},
   "outputs": [],
   "source": []
  },
  {
   "cell_type": "code",
   "execution_count": null,
   "metadata": {},
   "outputs": [],
   "source": []
  },
  {
   "cell_type": "markdown",
   "metadata": {},
   "source": [
    "# Testing"
   ]
  },
  {
   "cell_type": "code",
   "execution_count": 430,
   "metadata": {},
   "outputs": [],
   "source": [
    "data_ = pd.read_csv(\"test.csv\",engine='python')"
   ]
  },
  {
   "cell_type": "code",
   "execution_count": 431,
   "metadata": {},
   "outputs": [],
   "source": [
    "data_ = data_.drop([\"Host\", \"Link\", \"Date(ET)\", \"Time(ET)\", \"time(GMT)\", \"Unnamed: 9\", \"Index\"], axis=1)\n",
    "data_.replace(to_replace='FACEBOOK', value='Facebook',inplace=True)\n",
    "replace_ = {}\n",
    "for index, i in enumerate(list(set(data_[\"Source\"])),start=1):\n",
    "    replace_[index] = i\n",
    "    data_.replace(to_replace=i, value=index,inplace=True)\n",
    "data_.fillna('UNK',inplace=True)"
   ]
  },
  {
   "cell_type": "code",
   "execution_count": 432,
   "metadata": {},
   "outputs": [],
   "source": [
    "sent = preprocess(data_, 2)"
   ]
  },
  {
   "cell_type": "code",
   "execution_count": 433,
   "metadata": {},
   "outputs": [
    {
     "data": {
      "text/html": [
       "<div>\n",
       "<style scoped>\n",
       "    .dataframe tbody tr th:only-of-type {\n",
       "        vertical-align: middle;\n",
       "    }\n",
       "\n",
       "    .dataframe tbody tr th {\n",
       "        vertical-align: top;\n",
       "    }\n",
       "\n",
       "    .dataframe thead th {\n",
       "        text-align: right;\n",
       "    }\n",
       "</style>\n",
       "<table border=\"1\" class=\"dataframe\">\n",
       "  <thead>\n",
       "    <tr style=\"text-align: right;\">\n",
       "      <th></th>\n",
       "      <th>Source</th>\n",
       "      <th>Title</th>\n",
       "      <th>TRANS_CONV_TEXT</th>\n",
       "    </tr>\n",
       "  </thead>\n",
       "  <tbody>\n",
       "    <tr>\n",
       "      <th>0</th>\n",
       "      <td>2</td>\n",
       "      <td>UNK</td>\n",
       "      <td>Baby Slice, the son of the late Kimbo Slice, h...</td>\n",
       "    </tr>\n",
       "    <tr>\n",
       "      <th>1</th>\n",
       "      <td>4</td>\n",
       "      <td>My Story --</td>\n",
       "      <td>&lt;p&gt;&lt;font face=\"sans-serif\" size=\"3\"&gt;I have had...</td>\n",
       "    </tr>\n",
       "    <tr>\n",
       "      <th>2</th>\n",
       "      <td>2</td>\n",
       "      <td>US FDA ?????canagliflozin?dapagliflozin?????????</td>\n",
       "      <td>Previously, sodium-glucose cotransporter-2 (SG...</td>\n",
       "    </tr>\n",
       "    <tr>\n",
       "      <th>3</th>\n",
       "      <td>4</td>\n",
       "      <td>UNK</td>\n",
       "      <td>Hello. I suffer from congestive heart failure ...</td>\n",
       "    </tr>\n",
       "    <tr>\n",
       "      <th>4</th>\n",
       "      <td>2</td>\n",
       "      <td>Vitamin D improves heart function, study finds</td>\n",
       "      <td>A daily dose of vitamin D3 improves heart func...</td>\n",
       "    </tr>\n",
       "  </tbody>\n",
       "</table>\n",
       "</div>"
      ],
      "text/plain": [
       "   Source                                             Title  \\\n",
       "0       2                                               UNK   \n",
       "1       4                                       My Story --   \n",
       "2       2  US FDA ?????canagliflozin?dapagliflozin?????????   \n",
       "3       4                                               UNK   \n",
       "4       2    Vitamin D improves heart function, study finds   \n",
       "\n",
       "                                     TRANS_CONV_TEXT  \n",
       "0  Baby Slice, the son of the late Kimbo Slice, h...  \n",
       "1  <p><font face=\"sans-serif\" size=\"3\">I have had...  \n",
       "2  Previously, sodium-glucose cotransporter-2 (SG...  \n",
       "3  Hello. I suffer from congestive heart failure ...  \n",
       "4  A daily dose of vitamin D3 improves heart func...  "
      ]
     },
     "execution_count": 433,
     "metadata": {},
     "output_type": "execute_result"
    }
   ],
   "source": [
    "data_.head()"
   ]
  },
  {
   "cell_type": "code",
   "execution_count": 434,
   "metadata": {},
   "outputs": [],
   "source": [
    "vector = vectorizer.transform(sent)"
   ]
  },
  {
   "cell_type": "code",
   "execution_count": 435,
   "metadata": {},
   "outputs": [],
   "source": [
    "x = np.array(vector.toarray())\n",
    "m = np.array(data_['Source']).reshape(571,1) # source\n",
    "x = np.concatenate((m,x),axis=1) # source + text"
   ]
  },
  {
   "cell_type": "code",
   "execution_count": 436,
   "metadata": {},
   "outputs": [],
   "source": [
    "# predictions = model.predict(x)\n",
    "predictions = xg_reg.predict(x)"
   ]
  },
  {
   "cell_type": "code",
   "execution_count": 437,
   "metadata": {},
   "outputs": [
    {
     "data": {
      "text/plain": [
       "(571,)"
      ]
     },
     "execution_count": 437,
     "metadata": {},
     "output_type": "execute_result"
    }
   ],
   "source": [
    "predictions.shape"
   ]
  },
  {
   "cell_type": "markdown",
   "metadata": {},
   "source": [
    "# Saving"
   ]
  },
  {
   "cell_type": "code",
   "execution_count": 438,
   "metadata": {},
   "outputs": [],
   "source": [
    "format = 'Index,Patient_Tag\\n'"
   ]
  },
  {
   "cell_type": "code",
   "execution_count": 439,
   "metadata": {},
   "outputs": [],
   "source": [
    "for index, i in enumerate(predictions,start=1):\n",
    "    format+=str(index)+','+str(i) + '\\n'"
   ]
  },
  {
   "cell_type": "code",
   "execution_count": 440,
   "metadata": {},
   "outputs": [],
   "source": [
    "with open(\"submission_7.csv\", \"w\") as f:\n",
    "    f.write(format.strip())"
   ]
  },
  {
   "cell_type": "code",
   "execution_count": null,
   "metadata": {},
   "outputs": [],
   "source": []
  },
  {
   "cell_type": "raw",
   "metadata": {},
   "source": []
  },
  {
   "cell_type": "code",
   "execution_count": null,
   "metadata": {},
   "outputs": [],
   "source": []
  },
  {
   "cell_type": "code",
   "execution_count": null,
   "metadata": {},
   "outputs": [],
   "source": []
  },
  {
   "cell_type": "code",
   "execution_count": null,
   "metadata": {},
   "outputs": [],
   "source": []
  },
  {
   "cell_type": "code",
   "execution_count": null,
   "metadata": {},
   "outputs": [],
   "source": []
  }
 ],
 "metadata": {
  "kernelspec": {
   "display_name": "Python 3",
   "language": "python",
   "name": "python3"
  },
  "language_info": {
   "codemirror_mode": {
    "name": "ipython",
    "version": 3
   },
   "file_extension": ".py",
   "mimetype": "text/x-python",
   "name": "python",
   "nbconvert_exporter": "python",
   "pygments_lexer": "ipython3",
   "version": "3.6.8"
  }
 },
 "nbformat": 4,
 "nbformat_minor": 2
}
